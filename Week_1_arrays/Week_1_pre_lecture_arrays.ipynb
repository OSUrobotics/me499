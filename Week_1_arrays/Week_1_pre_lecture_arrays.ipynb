{
 "cells": [
  {
   "cell_type": "raw",
   "metadata": {},
   "source": [
    "# ASSIGNMENT CONFIG\n",
    "requirements: ../requirements.txt\n",
    "solutions_pdf: true\n",
    "export_cell:\n",
    "    instructions: \"Submit through gradescope, week 1 pre-lecture\"\n",
    "generate: \n",
    "    pdf: true\n",
    "    filtering: true\n",
    "    pagebreaks: true\n",
    "    zips: false"
   ]
  },
  {
   "cell_type": "markdown",
   "metadata": {},
   "source": [
    "# Lecture goals\n",
    "\n",
    "1. Understand the benefit of numpy (over lists) for operating over lists of numbers\n",
    "2. Introduction to numpy-style array operations\n",
    "3. Dictionaries for data encapsulation\n",
    "4. Functions for functionality encapsulation\n",
    "\n",
    "## Functions: \n",
    "Functions enable encapsulation of, well, functionality.\n",
    "\n",
    "They're also a useful mental tool for organizing and structuring your thoughts on how to solve a given problem\n",
    "1. Clearly define a bit of code that takes in some inputs, does some computation, then outputs some data\n",
    "2. Makes it easier to test that code with different inputs\n",
    "3. Practicalities: Prevents one of the most common sources of errors - re-using variable names\n",
    "\n",
    "It's almost never wrong to encapsulate a bit of code in a function. It can slow down (a tiny bit) computation time, but can greatly reduce debugging time, so it's usually worth it.\n",
    "\n",
    "Python's function syntax is beautifully designed to make it easy to set default values for parameters and pass back as much data as you want. We'll see more of that later; for this assignment we'll use the power of dictionaries to pass back \"labeled\" data.\n"
   ]
  },
  {
   "cell_type": "code",
   "execution_count": 10,
   "metadata": {},
   "outputs": [],
   "source": [
    "# Access all numpy functions as np.\n",
    "import numpy as np\n",
    "import otter\n",
    "grader = otter.Notebook()"
   ]
  },
  {
   "cell_type": "raw",
   "metadata": {},
   "source": [
    "# BEGIN QUESTION\n",
    "name: list"
   ]
  },
  {
   "cell_type": "markdown",
   "metadata": {},
   "source": [
    "### Function 1 (you fill in the body of the function)\n",
    "\n",
    "This function calculates the given stats from the list that is passed in. There is test code below this function."
   ]
  },
  {
   "cell_type": "raw",
   "metadata": {},
   "source": [
    "# BEGIN SOLUTION"
   ]
  },
  {
   "cell_type": "code",
   "execution_count": 11,
   "metadata": {},
   "outputs": [],
   "source": [
    "def calc_stats_from_list(in_list):\n",
    "    \"\"\" Calculate mean of positive numbers, mean of negatives numbers\n",
    "    Separate the list into positive and negative numbers. Calculate the mean of each. Return those means, along with\n",
    "     how many positive/negative numbers there were\n",
    "    @param in_list : any list type\n",
    "    @return - A dictionary with the desired stats\"\"\"\n",
    "\n",
    "    # These are the stats we're calculating. This is more elegant/useful than creating four variables - it keeps all\n",
    "    #  of the values in the same place and assigns a meaningful label (key) to them\n",
    "    dict_ret_stats = {\"Mean positive\": 0, \"Mean negative\": 0, \"Count positive\": 0, \"Count negative\": 0}\n",
    "\n",
    "    # BEGIN SOLUTION\n",
    "    # Note that I would normally do this with 4 variables, and then create the dictionary at the end and return it,\n",
    "    #   (which would save a lot of dictionary accesses) but doing this way because it makes setting up the automatic\n",
    "    #   grading software easier\n",
    "    for n in in_list:\n",
    "        if n < 0:\n",
    "            dict_ret_stats[\"Mean negative\"] += n\n",
    "            dict_ret_stats[\"Count negative\"] += 1\n",
    "        else:\n",
    "            dict_ret_stats[\"Mean positive\"] += n\n",
    "            dict_ret_stats[\"Count positive\"] += 1\n",
    "\n",
    "    # Cool tricks you can do when variables are dictionary names that are strings\n",
    "    for s in [\"positive\", \"negative\"]:\n",
    "        if dict_ret_stats[\"Count \" + s] > 0:\n",
    "            dict_ret_stats[\"Mean \" + s] /= dict_ret_stats[\"Count \" + s]\n",
    "    # END SOLUTION\n",
    "    return dict_ret_stats\n"
   ]
  },
  {
   "cell_type": "raw",
   "metadata": {},
   "source": [
    "# END SOLUTION"
   ]
  },
  {
   "cell_type": "markdown",
   "metadata": {},
   "source": [
    "### Test code for list\n",
    "\n",
    "Create the arrays and test them. Here's another advantage of functions - you can create test data for yourself to make sure the code is working right. Encapsulating the code in a function means you don't \n",
    "1. Accidentally change the code when switching from the test data to the real data\n",
    "2. You can make more than one test \n",
    "3. You can run the tests more than once/all the time to double check that you didn't \"break\" the code"
   ]
  },
  {
   "cell_type": "code",
   "execution_count": 12,
   "metadata": {},
   "outputs": [
    {
     "name": "stdout",
     "output_type": "stream",
     "text": [
      "Done tests list\n"
     ]
    }
   ],
   "source": [
    "# Test data\n",
    "test_list_one = [-0.75, -0.25, 1.0 / 3.0, 2.0 / 3.0, 3.0 / 3.0]\n",
    "test_list_res = calc_stats_from_list(test_list_one)\n",
    "if not np.isclose(test_list_res[\"Mean positive\"], 2.0 / 3.0):\n",
    "    print(f\"Mean positive is not correct, should be {2.0/3.0}, got {test_list_res['Mean positive']}\")\n",
    "\n",
    "if not np.isclose(test_list_res[\"Mean negative\"], -0.5):\n",
    "    print(f\"Mean negative is not correct, should be -0.5, got {test_list_res['Mean negative']}\")\n",
    "\n",
    "if test_list_res[\"Count positive\"] is not 3:\n",
    "    print(f\"Count positive numbers, should be 3, got {test_list_res['Count positive']}\")\n",
    "\n",
    "if test_list_res[\"Count negative\"] is not 2:\n",
    "    print(f\"Count positive numbers, should be 2, got {test_list_res['Count negative']}\")\n",
    "\n",
    "print(\"Done tests list\")"
   ]
  },
  {
   "cell_type": "markdown",
   "metadata": {},
   "source": [
    "### Function 2 ( you fill in the body of the function)\n",
    "\n",
    "For this function, assume the input is an numpy array.\n",
    "\n",
    "NO **if** statements or **for** loops - do this all with numpy operations\n",
    "\n",
    "You might find \"count_nonzero\" useful.\n",
    "\n",
    "As before, test code is below"
   ]
  },
  {
   "cell_type": "raw",
   "metadata": {},
   "source": [
    "# BEGIN SOLUTION"
   ]
  },
  {
   "cell_type": "code",
   "execution_count": 19,
   "metadata": {},
   "outputs": [],
   "source": [
    "def calc_stats_from_nparray(in_nparray):\n",
    "    \"\"\" Calculate mean of positive numbers, mean of negatives numbers\n",
    "    Separate the list into positive and negative numbers. Calculate the mean of each. Return those means, along with\n",
    "     how many positive/negative numbers there were\n",
    "    @param in_list : numpy array\n",
    "    @return - A dictionary with the desired stats\"\"\"\n",
    "\n",
    "    # These are the stats we're calculating. This is more elegant/useful than creating four variables - it keeps all\n",
    "    #  of the values in the same place and assigns a meaningful label (key) to them\n",
    "    dict_ret_stats = {\"Mean positive\": 0, \"Mean negative\": 0, \"Count positive\": 0, \"Count negative\": 0}\n",
    "\n",
    "    # BEGIN SOLUTION\n",
    "    dict_ret_stats = {\"Mean positive\": np.mean(in_nparray[in_nparray >= 0]),\n",
    "                      \"Mean negative\": np.mean(in_nparray[in_nparray < 0]),\n",
    "                      \"Count positive\": np.count_nonzero(in_nparray >= 0),\n",
    "                      \"Count negative\": np.count_nonzero(in_nparray < 0)}\n",
    "    # END SOLUTION\n",
    "    return dict_ret_stats"
   ]
  },
  {
   "cell_type": "raw",
   "metadata": {},
   "source": [
    "# END SOLUTION"
   ]
  },
  {
   "cell_type": "markdown",
   "metadata": {},
   "source": [
    "### Test code for numpy array\n",
    "There is a \"fancy\" way to do this test with the second function without duplicating code, but it's confusing, so... we'll just duplicate it here"
   ]
  },
  {
   "cell_type": "code",
   "execution_count": 20,
   "metadata": {},
   "outputs": [
    {
     "name": "stdout",
     "output_type": "stream",
     "text": [
      "Done tests numpy array\n"
     ]
    }
   ],
   "source": [
    "test_nparray_one = np.array(test_list_one)  # Convert the previous test list to a numpy array\n",
    "test_list_res = calc_stats_from_nparray(test_nparray_one)\n",
    "if not np.isclose(test_list_res[\"Mean positive\"], 2.0 / 3.0):\n",
    "    print(f\"Mean positive is not correct, should be {2.0/3.0}, got {test_list_res['Mean positive']}\")\n",
    "\n",
    "if not np.isclose(test_list_res[\"Mean negative\"], -0.5):\n",
    "    print(f\"Mean negative is not correct, should be -0.5, got {test_list_res['Mean negative']}\")\n",
    "\n",
    "if test_list_res[\"Count positive\"] is not 3:\n",
    "    print(f\"Count positive numbers, should be 3, got {test_list_res['Count positive']}\")\n",
    "\n",
    "if test_list_res[\"Count negative\"] is not 2:\n",
    "    print(f\"Count positive numbers, should be 2, got {test_list_res['Count negative']}\")\n",
    "\n",
    "print(\"Done tests numpy array\")"
   ]
  },
  {
   "cell_type": "markdown",
   "metadata": {},
   "source": [
    "### Create data to test with\n",
    "\n",
    "Ok, now do it for real. This bit of code will generate a list or numpy array with random positive and negative values."
   ]
  },
  {
   "cell_type": "code",
   "execution_count": 21,
   "metadata": {},
   "outputs": [],
   "source": [
    "def create_data(n_data=10, b_ret_numpy=True):\n",
    "    \"\"\" Create a random mix of positive and negative numbers\n",
    "    @param n_data - how big to make the list/array\n",
    "    @param b_ret_numpy - return a list or a numpy array\n",
    "    @return the list or numpy array\"\"\"\n",
    "    my_data = np.random.random_sample(n_data)\n",
    "\n",
    "    n_to_convert = np.random.randint(low=1, high=n_data-1)\n",
    "    n_convert = np.random.randint(low=0, high=n_data-1, size=n_to_convert)\n",
    "    my_data[n_convert] *= -1.0\n",
    "\n",
    "    if b_ret_numpy is False:\n",
    "        return list(my_data)\n",
    "    return my_data\n"
   ]
  },
  {
   "cell_type": "markdown",
   "metadata": {},
   "source": [
    "### Actually do the tests\n",
    "Check by comparing results against each other (doesn't guarantee it's right, but...). Try 10 times. \n",
    "\n",
    "We don't care what the iteration is so use _ to say \"we don't need a variable\""
   ]
  },
  {
   "cell_type": "code",
   "execution_count": 22,
   "metadata": {},
   "outputs": [
    {
     "name": "stdout",
     "output_type": "stream",
     "text": [
      "Done test\n"
     ]
    }
   ],
   "source": [
    "for _ in range(0, 10):\n",
    "    # Get some random data\n",
    "    test_data = create_data()\n",
    "    test_data_list = list(test_data)\n",
    "\n",
    "    # Call the two functions - notice cast to a list type\n",
    "    res_list = calc_stats_from_list(test_data_list)\n",
    "    res_np = calc_stats_from_nparray(test_data)\n",
    "\n",
    "    # For all four stored values...\n",
    "    for k, v in res_list.items():\n",
    "        # Use isclose instead of == because two of these are floating point values - and == never works with\n",
    "        #  floating point values\n",
    "        # Since we used the same keys (names) in the two different dictionaries, we can pass that key to the other\n",
    "        #   dictionary\n",
    "        if not np.isclose(res_np[k], v):\n",
    "            print(f\"Returned different values {k}, {v} and {res_np[k]}\")\n",
    "\n",
    "print(\"Done test\")"
   ]
  },
  {
   "cell_type": "raw",
   "metadata": {},
   "source": [
    "# BEGIN TESTS"
   ]
  },
  {
   "cell_type": "code",
   "execution_count": 23,
   "metadata": {},
   "outputs": [],
   "source": [
    "# HIDDEN\n",
    "test_data = [-1, 2, -3, 4, -5]\n",
    "res = calc_stats_from_list(test_data)\n",
    "assert np.isclose(res[\"Mean positive\"], 3)\n",
    "assert np.isclose(res[\"Mean negative\"], -3)\n",
    "assert np.isclose(res[\"Count positive\"], 2)\n",
    "assert np.isclose(res[\"Count negative\"], 3)"
   ]
  },
  {
   "cell_type": "code",
   "execution_count": 24,
   "metadata": {},
   "outputs": [],
   "source": [
    "# HIDDEN\n",
    "test_data = np.array([-1, 2, -3, 4, -5])\n",
    "res = calc_stats_from_nparray(test_data)\n",
    "assert np.isclose(res[\"Mean positive\"], 3)\n",
    "assert np.isclose(res[\"Mean negative\"], -3)\n",
    "assert np.isclose(res[\"Count positive\"], 2)\n",
    "assert np.isclose(res[\"Count negative\"], 3)"
   ]
  },
  {
   "cell_type": "raw",
   "metadata": {},
   "source": [
    "# END TESTS"
   ]
  },
  {
   "cell_type": "raw",
   "metadata": {},
   "source": [
    "# END QUESTION"
   ]
  }
 ],
 "metadata": {
  "kernelspec": {
   "display_name": "Python 3",
   "language": "python",
   "name": "python3"
  },
  "language_info": {
   "codemirror_mode": {
    "name": "ipython",
    "version": 3
   },
   "file_extension": ".py",
   "mimetype": "text/x-python",
   "name": "python",
   "nbconvert_exporter": "python",
   "pygments_lexer": "ipython3",
   "version": "3.7.4"
  }
 },
 "nbformat": 4,
 "nbformat_minor": 2
}
