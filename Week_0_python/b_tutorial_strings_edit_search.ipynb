{
 "cells": [
  {
   "cell_type": "markdown",
   "metadata": {},
   "source": [
    "# Tutorial: Editing strings\n",
    "\n",
    "Sometimes you have to take a string and edit it. Strings are IMMUTABLE - that means, you can't edit them in place. So all editing looks like copying over the pieces you want to keep and making a new string.\n",
    "\n",
    "There are a TON of existing routines for editing and searching and taking apart strings:\n",
    " - Upper/lower case, is it a letter, number or a white space, take out special characters\n",
    " - Find a character or a substring in a string, does the string contain these characters?\n",
    " - Split up a string into a list of strings\n",
    " \n",
    "See https://docs.python.org/2.5/lib/string-methods.html\n",
    "\n",
    "This tutorial won't cover all of them, just some of the most useful. In general, there will not be a single command to \"Remove the apostrophe's and the dashes from the names, make sure they're all lower case, and merge first and middle names\". Instead, you have to figure out which 2-3 of the commands get you close (strip, split, find, tolower) and then apply them one after the other (eg, convert everything to lower case, then strip out the dashes, then remove the spaces) with some logic (if 2 strings after split versus 3)."
   ]
  },
  {
   "cell_type": "markdown",
   "metadata": {},
   "source": [
    "## Example: Editing a string\n",
    "SOUNDS LIKE I'M YELLING! to Sounds like I'm NOT yelling\n",
    "\n",
    "Problem break down:\n",
    "- First do the conversion to lower case\n",
    "- Next, capitalize the first letter (there's a function for that)\n",
    "- Next, fix the i'm by doing a replace\n",
    "- Next, stick in a \"not\"\n",
    "- Next, take the ! out\n",
    "\n",
    "Obviously, if I knew what the sentence was it would be a lot easier to just, well, make the new sentence... But imagine, instead, you're writing a general purpose routine to convert all-caps strings to lower-case ones..."
   ]
  },
  {
   "cell_type": "code",
   "execution_count": 1,
   "metadata": {},
   "outputs": [],
   "source": [
    "# An entirely upper-case string\n",
    "my_string_upper_case = \"SOUNDS LIKE I'M YELLING!\""
   ]
  },
  {
   "cell_type": "code",
   "execution_count": 2,
   "metadata": {},
   "outputs": [
    {
     "name": "stdout",
     "output_type": "stream",
     "text": [
      "This is yelling: SOUNDS LIKE I'M YELLING!, this is not: sounds like i'm yelling!\n"
     ]
    }
   ],
   "source": [
    "# convert to lower case - lower makes a copy of the string, converts the upper case letters, then returns the copy\n",
    "my_string_lower_case = my_string_upper_case.lower()\n",
    "\n",
    "# Note that my_string_upper_case hasn't changed...\n",
    "print(f\"This is yelling: {my_string_upper_case}, this is not: {my_string_lower_case}\")"
   ]
  },
  {
   "cell_type": "code",
   "execution_count": 3,
   "metadata": {},
   "outputs": [
    {
     "name": "stdout",
     "output_type": "stream",
     "text": [
      "Sounds like i'm yelling!\n"
     ]
    }
   ],
   "source": [
    "# Oops, should capitalize first letter:\n",
    "my_string_cap = my_string_lower_case.capitalize()\n",
    "print(my_string_cap)"
   ]
  },
  {
   "cell_type": "code",
   "execution_count": 4,
   "metadata": {},
   "outputs": [
    {
     "name": "stdout",
     "output_type": "stream",
     "text": [
      "Sounds like I'm yelling!\n"
     ]
    }
   ],
   "source": [
    "# ... and replace the lower-case i with an upper case\n",
    "#  Notice the use of \"\" so that we can use ' as a character\n",
    "my_string_with_i_fixed = my_string_cap.replace(\"i'm\", \"I'm\")\n",
    "print(my_string_with_i_fixed)"
   ]
  },
  {
   "cell_type": "code",
   "execution_count": 5,
   "metadata": {},
   "outputs": [
    {
     "name": "stdout",
     "output_type": "stream",
     "text": [
      "Sounds like I'm not yelling!\n"
     ]
    }
   ],
   "source": [
    "# add in the \"not\" by finding the last space\n",
    "index_last_space = my_string_with_i_fixed.rfind(\" \")\n",
    "# List indexing to get out the left and right half\n",
    "#   0:index gets 0, through index -1\n",
    "#   index: gets from index through end\n",
    "my_not_yelling_string = my_string_with_i_fixed[0:index_last_space] + \" not\" + my_string_with_i_fixed[index_last_space:]\n",
    "print(my_not_yelling_string)"
   ]
  },
  {
   "cell_type": "code",
   "execution_count": 6,
   "metadata": {},
   "outputs": [
    {
     "name": "stdout",
     "output_type": "stream",
     "text": [
      "Sounds like I'm not yelling\n"
     ]
    }
   ],
   "source": [
    "# ... without the ! at the end - use :-1 to only copy up to the last element\n",
    "my_not_yelling_string_better = my_string_with_i_fixed[0:index_last_space] + \" not\" + my_string_with_i_fixed[index_last_space:-1]\n",
    "print(my_not_yelling_string_better)"
   ]
  },
  {
   "cell_type": "markdown",
   "metadata": {},
   "source": [
    "## GOTCHA - Common error when editing a string: Can't edit in place\n",
    "You can't directly edit a string. You'll get a very confusing error message that says\n",
    " TypeError: 'str' object does not support item assignment\n",
    "\n",
    "Translate that as: You can't assign to an individual character in a string"
   ]
  },
  {
   "cell_type": "code",
   "execution_count": 7,
   "metadata": {},
   "outputs": [
    {
     "ename": "TypeError",
     "evalue": "'str' object does not support item assignment",
     "output_type": "error",
     "traceback": [
      "\u001b[0;31m---------------------------------------------------------------------------\u001b[0m",
      "\u001b[0;31mTypeError\u001b[0m                                 Traceback (most recent call last)",
      "\u001b[0;32m<ipython-input-7-a8cfd7393bb6>\u001b[0m in \u001b[0;36m<module>\u001b[0;34m\u001b[0m\n\u001b[0;32m----> 1\u001b[0;31m \u001b[0mmy_not_yelling_string\u001b[0m\u001b[0;34m[\u001b[0m\u001b[0;36m1\u001b[0m\u001b[0;34m]\u001b[0m \u001b[0;34m=\u001b[0m \u001b[0;34m's'\u001b[0m\u001b[0;34m\u001b[0m\u001b[0;34m\u001b[0m\u001b[0m\n\u001b[0m",
      "\u001b[0;31mTypeError\u001b[0m: 'str' object does not support item assignment"
     ]
    }
   ],
   "source": [
    "my_not_yelling_string[1] = 's'"
   ]
  },
  {
   "cell_type": "markdown",
   "metadata": {},
   "source": [
    "# Tutorial: Splitting up strings\n",
    "Often when you read in strings from files (or people type in strings) you'll get strings that you have to \"split up\",\n",
    "for example, by getting all the numbers separated by commas OR ignoring a descriptor at the beginning. \n",
    "\n",
    "For these examples we'll have pre-defined strings that are \"typed in\" (rather than reading them from a file) just to keep things simple. In reality, you usually have to do this when you can't edit the files directly.\n",
    "\n",
    "An aside: When you only have one file you're \"cleaning up\" for processing (as opposed to writing some code to process a whole bunch of similar files) it is often a lot easier to open the file in your favorite spreadsheet editor and just... edit it there. "
   ]
  },
  {
   "cell_type": "markdown",
   "metadata": {},
   "source": [
    "## Tutorial: Split example\n",
    "This first bit of code is just to make the string to play with."
   ]
  },
  {
   "cell_type": "code",
   "execution_count": 8,
   "metadata": {},
   "outputs": [
    {
     "name": "stdout",
     "output_type": "stream",
     "text": [
      "\t0.3, 0.4, 0.5, 3., 0.6, 0.7, 0.8, 0.9, 1.0, 1.1, 1.2\n"
     ]
    }
   ],
   "source": [
    "# Make a list of numbers\n",
    "list_of_numbers = [0.3 + 0.1 * n for n in range(0, 10)]\n",
    "# Put a random number in the middle\n",
    "list_of_numbers.insert(3, \"3.3e-3\")\n",
    "\n",
    "# Turn it into a string with a tab at the beginning (the \\t)\n",
    "str_list_of_numbers = \"\\t\" + \", \".join([\"{:.2}\"] * len(list_of_numbers)).format(*list_of_numbers)\n",
    "print(str_list_of_numbers)"
   ]
  },
  {
   "cell_type": "code",
   "execution_count": 9,
   "metadata": {},
   "outputs": [
    {
     "name": "stdout",
     "output_type": "stream",
     "text": [
      "[0.3, 0.4, 0.5, 3.0, 0.6, 0.7, 0.8, 0.9, 1.0, 1.1, 1.2]\n"
     ]
    }
   ],
   "source": [
    "# Take it back apart again using split, looking for commans\n",
    "my_list_back_as_strs = str_list_of_numbers.split(',')\n",
    "\n",
    "# Convert back to a list of numbers - note that float() is smart enough to take out white space\n",
    "recover_list = [float(item) for item in my_list_back_as_strs]\n",
    "print(recover_list)"
   ]
  },
  {
   "cell_type": "code",
   "execution_count": 10,
   "metadata": {},
   "outputs": [],
   "source": [
    "# if that is confusing to you, this is the same code\n",
    "recover_list = []\n",
    "for item in my_list_back_as_strs:\n",
    "    recover_list.append(float(item))\n",
    "print(recover_list)    "
   ]
  },
  {
   "cell_type": "markdown",
   "metadata": {},
   "source": [
    "## Tutorial: Find example\n",
    "We have a list of strings, which consist of a descriptive name followed by a colon followed by a number\n",
    " - Find the end of the line (the \\n) then split up each line.\n",
    " - If the line has a : then get out the number, otherwise, ignore it\n",
    " - Note that there is a more complete example of this (for building a dictionary) in the dictionary tutorial"
   ]
  },
  {
   "cell_type": "code",
   "execution_count": 12,
   "metadata": {},
   "outputs": [
    {
     "name": "stdout",
     "output_type": "stream",
     "text": [
      "# This is a header\n",
      "Item 1: 0.3\n",
      "Blank line\n",
      "Item 2: 1.3\n",
      "\n"
     ]
    }
   ],
   "source": [
    "my_str_to_parse = \"# This is a header\\nItem 1: 0.3\\nBlank line\\nItem 2: 1.3\\n\"\n",
    "print(my_str_to_parse)"
   ]
  },
  {
   "cell_type": "code",
   "execution_count": 14,
   "metadata": {},
   "outputs": [
    {
     "name": "stdout",
     "output_type": "stream",
     "text": [
      "['# This is a header', 'Item 1: 0.3', 'Blank line', 'Item 2: 1.3', '']\n"
     ]
    }
   ],
   "source": [
    "# First, split the line into strings separated by \\n\n",
    "my_lines = my_str_to_parse.split('\\n')\n",
    "print(my_lines)"
   ]
  },
  {
   "cell_type": "code",
   "execution_count": 15,
   "metadata": {},
   "outputs": [
    {
     "name": "stdout",
     "output_type": "stream",
     "text": [
      "[0.3, 1.3]\n"
     ]
    }
   ],
   "source": [
    "# An empty list of numbers\n",
    "my_numbers = []\n",
    "# Now loop through each line and look for a colon\n",
    "for l in my_lines:\n",
    "    # You can use this notation to see if the string \":\" is in the string \"l\"\n",
    "    if \":\" in l:\n",
    "        # split again - you could also use find and the resulting index\n",
    "        two_parts = l.split(\":\")\n",
    "        # Don't forget to convert the string to the number\n",
    "        the_number = float(two_parts[-1])\n",
    "        my_numbers.append(the_number)\n",
    "print(my_numbers)"
   ]
  },
  {
   "cell_type": "markdown",
   "metadata": {},
   "source": [
    "## Tutorial: Editing a file name\n",
    "This is pretty common - take the last 4 characters off and replace them with a different file type"
   ]
  },
  {
   "cell_type": "code",
   "execution_count": 17,
   "metadata": {},
   "outputs": [
    {
     "name": "stdout",
     "output_type": "stream",
     "text": [
      "my_file.csv\n"
     ]
    }
   ],
   "source": [
    "file_name_orig = \"my_file.txt\"\n",
    "file_name_new = file_name_orig[0:-4] + \".csv\"\n",
    "print(file_name_new)"
   ]
  }
 ],
 "metadata": {
  "kernelspec": {
   "display_name": "Python 3",
   "language": "python",
   "name": "python3"
  },
  "language_info": {
   "codemirror_mode": {
    "name": "ipython",
    "version": 3
   },
   "file_extension": ".py",
   "mimetype": "text/x-python",
   "name": "python",
   "nbconvert_exporter": "python",
   "pygments_lexer": "ipython3",
   "version": "3.7.4"
  }
 },
 "nbformat": 4,
 "nbformat_minor": 2
}
