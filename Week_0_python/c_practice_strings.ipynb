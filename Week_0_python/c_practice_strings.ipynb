{
 "cells": [
  {
   "cell_type": "markdown",
   "metadata": {},
   "source": [
    "# Practice: String formatting\n",
    "\n",
    "Create a formatted string and print it out\n",
    " - Use \"\".format with {} OR the f\"\" syntax\n",
    " - DON'T copy the stuff from the variables into the string - if you change any of the variable values your code should still work"
   ]
  },
  {
   "cell_type": "code",
   "execution_count": 19,
   "metadata": {},
   "outputs": [],
   "source": [
    "# Variables to practice with\n",
    "x = 3.7925\n",
    "y = 1.3e10\n",
    "x_name = \"x\"\n",
    "y_name = \"y\""
   ]
  },
  {
   "cell_type": "markdown",
   "metadata": {},
   "source": [
    "## Practice: Basic print with string format\n",
    "\n",
    "LO: \n",
    "- Use of {} in a string with format\n",
    "- Use of modifiers in {} to format numbers\n",
    "- Can do equations in format, newline (\\n) and tab (\\t)\n",
    "\n",
    "First version - modify one (or both) of the print statements to produce:\n",
    "\n",
    "*First variable is x, value 3.7925, second variable is y, value 13000000000.0*\n",
    "\n",
    "Second version - modify one (or both) of the print statements to produce:\n",
    "\n",
    "*First variable is x, value 3.79, second variable is y, value 1.30e+10*\n",
    "\n",
    "Third version - modify one (or both) of the print statements to produce:\n",
    "\n",
    "*Variables (x, y), values (3.79, 1.30e+10),*\n",
    "  *mean 6500000001.90*\n",
    "\n",
    "- do this with ONE print statement, using \\n, and without creating new variables\n",
    "- hint: mean is (x + y) / 2"
   ]
  },
  {
   "cell_type": "code",
   "execution_count": 20,
   "metadata": {},
   "outputs": [
    {
     "name": "stdout",
     "output_type": "stream",
     "text": [
      "First variable is , value , second variable is , value \n",
      "First variable is , value , second variable is , value \n"
     ]
    }
   ],
   "source": [
    "print(\"First variable is , value , second variable is , value \".format())\n",
    "print(f\"First variable is , value , second variable is , value \")"
   ]
  },
  {
   "cell_type": "markdown",
   "metadata": {},
   "source": [
    "# Practice: String editing \n",
    "The first two problems just to do a simple replacement. The third problem involves multiple steps."
   ]
  },
  {
   "cell_type": "markdown",
   "metadata": {},
   "source": [
    "## Practice: Simple replace and glue\n",
    "\n",
    "LO: String indexing, building one string from multiple ones (use + or \"\".format or f\"\")\n",
    "\n",
    "Change my_new_fname to be \"foo.csv\" instead of \"foo.txt'\n",
    " - You must use my_fname - don't just type in the values. This should work even if you change foo to something else\n",
    " - Modify code to produce:\n",
    " - *Old file name: foo.txt, New file name: foo.csv*"
   ]
  },
  {
   "cell_type": "code",
   "execution_count": 21,
   "metadata": {},
   "outputs": [
    {
     "name": "stdout",
     "output_type": "stream",
     "text": [
      "Old file name: foo.txt, New file name: foo.txt\n"
     ]
    }
   ],
   "source": [
    "my_fname = \"foo.txt\"\n",
    "my_new_fname = my_fname\n",
    "print(f\"Old file name: {my_fname}, New file name: {my_new_fname}\")"
   ]
  },
  {
   "cell_type": "markdown",
   "metadata": {},
   "source": [
    "LO: Find (and replace) dashes or other special characters in a string\n",
    " - Replace the dash with a space\n",
    " - Modify code to produce:\n",
    " - *Dashed: a-dash, not dashed: a dash*"
   ]
  },
  {
   "cell_type": "code",
   "execution_count": 22,
   "metadata": {},
   "outputs": [
    {
     "name": "stdout",
     "output_type": "stream",
     "text": [
      "Dashed: a-dash, not dashed: a-dash\n"
     ]
    }
   ],
   "source": [
    "str_with_dash = \"a-dash\"\n",
    "str_without_dash = str_with_dash\n",
    "print(f\"Dashed: {str_with_dash}, not dashed: {str_without_dash}\")"
   ]
  },
  {
   "cell_type": "markdown",
   "metadata": {},
   "source": [
    "## Practice: Splitting up long strings into text and numbers\n",
    "\n",
    "Do these in order. Don't try to do them all at once.\n",
    "\n",
    "LO: strip for removing unwanted characters\n",
    " - First change: Take out the () so a string and 10 don't have parenthesis in them\n",
    " - Second change: Remove extra white space so everything prints left-justified\n",
    "   - hint: strip with no parameters will take out ALL white space (including tabs and new lines)\n",
    "   - you can do the strip on the ENTIRE string OR on each individual one - doesn't really matter\n",
    "   \n",
    "LO: Using the .isxxx() methods to determine if the string is an integer or not\n",
    " - Third change: Print out either \"Is an integer [the number]\" or \"Is not an integer [the string]\" for each string\n",
    "   - you will have to do this on individual strings AND add an if statement into the for loop...\n",
    "   - [optional] if you want to detect 3.7 or 1e30 you need to try converting to a number and then throw an exception if it didn't work - see answers below\n",
    "\n",
    "LO: Use the cast int() or float() to convert a string to a number\n",
    " - Fourth change: Add 2 to the number before printing it out\n",
    " - Fifth change: take out any dashes or ' in the strings\n",
    " \n",
    "LO: Putting strings together in a for loop (how to do an append), str() to convert a number to a string\n",
    " - See the bit of pseudo-code below - you will need to build a new string because you can't edit strings in place\n",
    " - Glue the string back together. The **for** loop and the final print should produce:"
   ]
  },
  {
   "cell_type": "raw",
   "metadata": {},
   "source": [
    "Is not an integer: a string\n",
    "Is not an integer: 3.7\n",
    "Is not an integer: a dash\n",
    "Is not an integer: 1e30\n",
    "Is an integer: 7, adding two: 9\n",
    "Is not an integer: a tick\n",
    "Is an integer: 10, adding two: 12\n",
    "My fixed string: (a string, 3.7, a dash, 1e30, 9, a tick, 12)\n"
   ]
  },
  {
   "cell_type": "raw",
   "metadata": {},
   "source": [
    "Two ways to build a new string by continually adding to it\n",
    "\n",
    "my_new_str = \"\"\n",
    "for [blah]\n",
    "   my_new_str = my_new_str + [new stuff]\n",
    "   \n",
    "      OR\n",
    "for [blah]\n",
    "   my_new_str = f\"{my_new_str} new stuff\""
   ]
  },
  {
   "cell_type": "code",
   "execution_count": 23,
   "metadata": {},
   "outputs": [
    {
     "name": "stdout",
     "output_type": "stream",
     "text": [
      "(a string\n",
      " 3.7\n",
      " a-dash\n",
      " 1e30\n",
      " 7\n",
      " a'tick\n",
      " \n",
      " \t 10)\n",
      "My fixed string: (a string, 3.7, a-dash, 1e30, 7, a'tick, \n",
      " \t 10)\n"
     ]
    }
   ],
   "source": [
    "# Code to get you started\n",
    "my_long_str = \"(a string, 3.7, a-dash, 1e30, 7, a'tick, \\n \\t 10)\"\n",
    "my_fixed_str = my_long_str\n",
    "for my_str in my_long_str.split(\",\"):\n",
    "    print(f\"{my_str}\")\n",
    "    \n",
    "print(f\"My fixed string: {my_fixed_str}\")"
   ]
  },
  {
   "cell_type": "markdown",
   "metadata": {},
   "source": [
    "# Answers"
   ]
  },
  {
   "cell_type": "markdown",
   "metadata": {},
   "source": [
    "## Practice 1 & 2 - formatted printing"
   ]
  },
  {
   "cell_type": "code",
   "execution_count": 24,
   "metadata": {},
   "outputs": [
    {
     "name": "stdout",
     "output_type": "stream",
     "text": [
      "----------ANSWERS----------\n",
      "First version\n",
      "First variable is x, value 3.7925, second variable is y, value 13000000000.0\n",
      "First variable is x, value 3.7925, second variable is y, value 13000000000.0\n"
     ]
    }
   ],
   "source": [
    "print(\"-\"*10 + \"ANSWERS\" + \"-\"*10)  # Notice use of * to make lots of *\n",
    "print(\"First version\")\n",
    "print(\"First variable is {}, value {}, second variable is {}, value {}\".format(x_name, x, y_name, y))\n",
    "print(f\"First variable is {x_name}, value {x}, second variable is {y_name}, value {y}\")"
   ]
  },
  {
   "cell_type": "code",
   "execution_count": 25,
   "metadata": {},
   "outputs": [
    {
     "name": "stdout",
     "output_type": "stream",
     "text": [
      "Second version\n",
      "First variable is x, value 3.79, second variable is y, value 1.30e+10\n",
      "First variable is x, value 3.79, second variable is y, value 1.30e+10\n"
     ]
    }
   ],
   "source": [
    "print(\"Second version\")\n",
    "print(\"First variable is {}, value {:0.2f}, second variable is {}, value {:0.2e}\".format(x_name, x, y_name, y))\n",
    "print(f\"First variable is {x_name}, value {x:0.2f}, second variable is {y_name}, value {y:0.2e}\")"
   ]
  },
  {
   "cell_type": "code",
   "execution_count": 26,
   "metadata": {},
   "outputs": [
    {
     "name": "stdout",
     "output_type": "stream",
     "text": [
      "Third version\n",
      "Variables (x, y), values (3.79, 1.30e+10), \n",
      "\tmean 6500000001.90\n",
      "Variables (x, y), values (3.79, 1.30e+10), \n",
      "\tmean 6500000001.90\n"
     ]
    }
   ],
   "source": [
    "print(\"Third version\")\n",
    "print(\"Variables ({}, {}), values ({:0.2f}, {:0.2e}), \\n\\tmean {:0.2f}\".format(x_name, y_name, x, y, (x + y) / 2))\n",
    "print(f\"Variables ({x_name}, {y_name}), values ({x:0.2f}, {y:0.2e}), \\n\\tmean {((x + y) / 2):0.2f}\")"
   ]
  },
  {
   "cell_type": "code",
   "execution_count": 27,
   "metadata": {},
   "outputs": [
    {
     "name": "stdout",
     "output_type": "stream",
     "text": [
      "--------------------\n",
      "Old file name: foo.txt, New file name: foo.csv\n",
      "Old file name: foo.txt, New file name: foo.csv\n",
      "Old file name: foo.txt, New file name: foo.csv\n"
     ]
    }
   ],
   "source": [
    "print(\"-\"*20)\n",
    "# I like plus in this case (rather than format) because you're just putting two strings together\n",
    "my_new_fname_v1 = my_fname[:-4] + \".csv\"\n",
    "# But this works too\n",
    "my_new_fname_v2 = f\"{my_fname[:-4]}.csv\"\n",
    "# And this...\n",
    "my_new_fname_v3 = \"{}.csv\".format(my_fname[:-4])\n",
    "# Print out the new file names\n",
    "print(f\"Old file name: {my_fname}, New file name: {my_new_fname_v1}\")\n",
    "print(f\"Old file name: {my_fname}, New file name: {my_new_fname_v2}\")\n",
    "print(f\"Old file name: {my_fname}, New file name: {my_new_fname_v3}\")"
   ]
  },
  {
   "cell_type": "code",
   "execution_count": 28,
   "metadata": {},
   "outputs": [
    {
     "name": "stdout",
     "output_type": "stream",
     "text": [
      "Dashed: a-dash, not dashed: a dash\n",
      "Dashed: a-dash, not dashed: a dash\n"
     ]
    }
   ],
   "source": [
    "# Simplest dash replace:\n",
    "str_without_dash = str_with_dash.replace(\"-\", \" \")\n",
    "print(f\"Dashed: {str_with_dash}, not dashed: {str_without_dash}\")\n",
    "\n",
    "# You can also use find and string indexing to do it manually\n",
    "index_dash = str_with_dash.find(\"-\")\n",
    "str_without_dash = str_with_dash[0:index_dash] + \" \" + str_with_dash[index_dash+1:]\n",
    "print(f\"Dashed: {str_with_dash}, not dashed: {str_without_dash}\")"
   ]
  },
  {
   "cell_type": "markdown",
   "metadata": {},
   "source": [
    "## Answer: Edit the string\n",
    "I've put in a lot of different ways to do each step, just to show that there is no one way to do things - this isn't even all of them!\n",
    "\n",
    "Play around with this a bit - take out lines, break lines up, to see what each bit of code is doing."
   ]
  },
  {
   "cell_type": "code",
   "execution_count": 29,
   "metadata": {},
   "outputs": [
    {
     "name": "stdout",
     "output_type": "stream",
     "text": [
      "a string, 3.7, a-dash, 1e30, 7, a'tick, \n",
      " \t 10\n",
      "Is not an integer: a string\n",
      "Is not an integer: 3.7\n",
      "Is not an integer: a dash\n",
      "Is not an integer: 1e30\n",
      "Is an integer: 7, adding two: 9\n",
      "Is not an integer: a tick\n",
      "Is an integer: 10, adding two: 12\n",
      "My fixed string: (a string, 3.7, a dash, 1e30, 9, a tick, 12)\n"
     ]
    }
   ],
   "source": [
    "# Reset this here in case you accidentally changed it...\n",
    "my_long_str = \"(a string, 3.7, a-dash, 1e30, 7, a'tick, \\n \\t 10)\"\n",
    "\n",
    "#  This strips out both the ( and the ) from the string\n",
    "#  You COULD do the following if you want to strip out all the white space at the same time:\n",
    "my_do_it_all = my_long_str.strip(\"()\").strip()   # optional\n",
    "print(my_do_it_all)\n",
    "m_long_str_modified = my_long_str.strip(\"()\") # Or just take out the () and do the white space later\n",
    "# Building the new string\n",
    "my_fixed_string = \"(\"  # Start with the (\n",
    "\n",
    "# Split returns a list of strings, removing the ,\n",
    "#   The for loop will assign my_str to each of those strings in the list in turn\n",
    "for my_str in m_long_str_modified.split(\",\"):\n",
    "    # Remove the white space - don't pass in parameters if you want strip to remove ALL types of white space\n",
    "    my_str_modified = my_str.strip()\n",
    "    # See if we have a digit\n",
    "    if my_str_modified.isdigit():\n",
    "        # Note the conversion to int - you can't add 2 to a string\n",
    "        my_num = int(my_str_modified) + 2\n",
    "        # Note the my_fixed_string = my_fixed_string - you can't edit my_fixed_string, but you can make a new\n",
    "        #   string from my_fixed_string and then assign that to the same variable\n",
    "        my_fixed_string = my_fixed_string + str(my_num) + \", \"   # Note the cast back to a str\n",
    "        # Print statement\n",
    "        print(f\"Is an integer: {my_str_modified}, adding two: {my_num}\")\n",
    "    else:\n",
    "        # You can do this one at a time - note that my_str_modified is on the left and right (rather than creating\n",
    "        #   a new variable)\n",
    "        my_str_modified = my_str_modified.replace(\"-\", \" \")\n",
    "        my_str_modified = my_str_modified.replace(\"'\", \" \")\n",
    "        # OR\n",
    "        my_str_modified = my_str_modified.replace(\"-\", \" \").replace(\"'\", \" \")\n",
    "        # See above about building my_fixed_string\n",
    "        my_fixed_string = my_fixed_string + my_str_modified + \", \"\n",
    "\n",
    "        # Print statement\n",
    "        print(f\"Is not an integer: {my_str_modified}\")\n",
    "\n",
    "# Take out the last comma and add the )\n",
    "my_fixed_string = my_fixed_string[0:-2] + \")\"\n",
    "print(f\"My fixed string: {my_fixed_string}\")"
   ]
  },
  {
   "cell_type": "markdown",
   "metadata": {},
   "source": [
    "## Answer v2: Edit the string (optional)\n",
    "If that isn't enough options, here's yet another way to do it, this time with a join\n",
    "\n",
    "This version is a bit \"easier\" to debug, because we split up the string, then store each piece in the list, and wait until the end to put the list back together. This separates out two conceptual steps - splitting up and editing the original list, and sticking the list back together into a string."
   ]
  },
  {
   "cell_type": "code",
   "execution_count": 16,
   "metadata": {},
   "outputs": [
    {
     "name": "stdout",
     "output_type": "stream",
     "text": [
      "Is not an integer: a string\n",
      "Is not an integer: 3.7\n",
      "Is not an integer: a dash\n",
      "Is not an integer: 1e30\n",
      "Is an integer: 7, adding two: 9\n",
      "Is not an integer: a tick\n",
      "Is an integer: 10, adding two: 12\n",
      "My fixed string fancy: (a string, 3.7, a dash, 1e30, 9, a tick, 12)\n"
     ]
    }
   ],
   "source": [
    "# Reset this here in case you accidentally changed it...\n",
    "my_long_str = \"(a string, 3.7, a-dash, 1e30, 7, a'tick, \\n \\t 10)\"\n",
    "\n",
    "# Take out the ()\n",
    "m_long_str_modified = my_long_str.strip(\"()\") \n",
    "\n",
    "# OPTIONAL - doing it the fancy way with join and a list\n",
    "my_fixed_strs_fancy = []  # where to put the fixed strings\n",
    "\n",
    "# Outer for loop is the same\n",
    "for my_str in m_long_str_modified.split(\",\"):\n",
    "    # Remove the white space - don't pass in parameters if you want strip to remove ALL types of white space\n",
    "    my_str_modified = my_str.strip()\n",
    "    # See if we have a digit\n",
    "    if my_str_modified.isdigit():\n",
    "        # Note the conversion to int - you can't add 2 to a string\n",
    "        my_num = int(my_str_modified) + 2\n",
    "        # Convert back to a string\n",
    "        my_num_str = str(my_num)\n",
    "        # Put the new string in the list - note the str() to cast the number to a string\n",
    "        my_fixed_strs_fancy.append(my_num_str)\n",
    "        # Print statement\n",
    "        print(f\"Is an integer: {my_str_modified}, adding two: {my_num}\")\n",
    "    else:\n",
    "        # Do all the modifications at once\n",
    "        my_str_modified = my_str_modified.replace(\"-\", \" \").replace(\"'\", \" \")\n",
    "\n",
    "        # Put the new string in the list\n",
    "        my_fixed_strs_fancy.append(my_str_modified)\n",
    "\n",
    "        # Print statement\n",
    "        print(f\"Is not an integer: {my_str_modified}\")\n",
    "\n",
    "# This is the more elegant way to do this, building a list of strings then using join to put them together with ,s\n",
    "my_fixed_string_fancy = \"(\" + \", \".join(my_fixed_strs_fancy) + \")\"\n",
    "print(f\"My fixed string fancy: {my_fixed_string_fancy}\")"
   ]
  },
  {
   "cell_type": "markdown",
   "metadata": {},
   "source": [
    "## Answer v3: Doing it the Python way\n",
    "\n",
    "If you want to do the decimals/other number formats, the right thing to do is TRY to cast the string to a number and then, if it fails, assume it is not a number. The try/except works much like an if statement (try this, and if it fails, try that) but it not as strict about typing (see duck typing)."
   ]
  },
  {
   "cell_type": "code",
   "execution_count": 30,
   "metadata": {},
   "outputs": [
    {
     "name": "stdout",
     "output_type": "stream",
     "text": [
      "Is not a number: a string\n",
      "Is a number: 5.7\n",
      "Is not a number: a dash\n",
      "Is a number: 1e+30\n",
      "Is a number: 9.0\n",
      "Is not a number: a tick\n",
      "Is a number: 12.0\n",
      "My fixed string fancy: (a string, 5.7, a dash, 1e+30, 9.0, a tick, 12.0)\n"
     ]
    }
   ],
   "source": [
    "# Reset this here in case you accidentally changed it...\n",
    "my_long_str = \"(a string, 3.7, a-dash, 1e30, 7, a'tick, \\n \\t 10)\"\n",
    "\n",
    "# Take out the ()\n",
    "m_long_str_modified = my_long_str.strip(\"()\") \n",
    "\n",
    "my_fixed_strs_fancy = []\n",
    "for my_str in m_long_str_modified.split(\",\"):\n",
    "    # Don't need to remove the white space because the cast will do it\n",
    "    try:\n",
    "        # Try to cast to a float and add two\n",
    "        my_num = float(my_str) + 2\n",
    "        my_str_modified = str(my_num)  # You could do these in one line, but...\n",
    "        print(f\"Is a number: {my_str_modified}\")\n",
    "    except ValueError:\n",
    "        # If the above code failed, do this instead\n",
    "        my_str_modified =  my_str.strip().replace(\"-\", \" \").replace(\"'\", \" \")\n",
    "        print(f\"Is not a number: {my_str_modified}\")\n",
    "\n",
    "    my_fixed_strs_fancy.append(my_str_modified)\n",
    "\n",
    "my_fixed_string_fancy = \"(\" + \", \".join(my_fixed_strs_fancy) + \")\"\n",
    "print(f\"My fixed string fancy: {my_fixed_string_fancy}\")"
   ]
  }
 ],
 "metadata": {
  "kernelspec": {
   "display_name": "Python 3",
   "language": "python",
   "name": "python3"
  },
  "language_info": {
   "codemirror_mode": {
    "name": "ipython",
    "version": 3
   },
   "file_extension": ".py",
   "mimetype": "text/x-python",
   "name": "python",
   "nbconvert_exporter": "python",
   "pygments_lexer": "ipython3",
   "version": "3.7.4"
  }
 },
 "nbformat": 4,
 "nbformat_minor": 2
}
